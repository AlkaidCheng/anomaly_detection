{
 "cells": [
  {
   "cell_type": "code",
   "execution_count": 1,
   "id": "9c0d6626-f2f9-4906-b901-3b4175cdae67",
   "metadata": {},
   "outputs": [
    {
     "name": "stdout",
     "output_type": "stream",
     "text": [
      "Welcome to JupyROOT 6.28/04\n"
     ]
    },
    {
     "data": {
      "text/plain": [
       "0"
      ]
     },
     "execution_count": 1,
     "metadata": {},
     "output_type": "execute_result"
    }
   ],
   "source": [
    "import ROOT\n",
    "import cppyy\n",
    "ROOT.gSystem.Load(\"libDelphes\")"
   ]
  },
  {
   "cell_type": "code",
   "execution_count": 2,
   "id": "693ff72d-b59b-4742-849a-b93e38e6570e",
   "metadata": {},
   "outputs": [],
   "source": [
    "filename = \"/global/cfs/projectdirs/m3246/AnomalyDetection/ILC/Delphes-3.5.0/LHCO_RnD_qq.root\""
   ]
  },
  {
   "cell_type": "code",
   "execution_count": 3,
   "id": "8d5fd2b9-e1a0-441f-8ea2-2f618adf382a",
   "metadata": {},
   "outputs": [],
   "source": [
    "chain = ROOT.TChain(\"Delphes\")\n",
    "chain.Add(filename)\n",
    "treeReader = ROOT.ExRootTreeReader(chain)\n",
    "branchEvent = treeReader.UseBranch(\"Event\")\n",
    "branchJet = treeReader.UseBranch(\"Jet\")\n",
    "branchParticle = treeReader.UseBranch(\"Particle\")\n",
    "branchTower = treeReader.UseBranch(\"Tower\")\n",
    "branchEFlowTrack = treeReader.UseBranch(\"EFlowTrack\");\n",
    "branchEFlowTower = treeReader.UseBranch(\"EFlowPhoton\");\n",
    "branchEFlowNeutralHadron = treeReader.UseBranch(\"EFlowNeutralHadron\")\n",
    "allEntries = treeReader.GetEntries()"
   ]
  },
  {
   "cell_type": "code",
   "execution_count": 4,
   "id": "41ad2ebb-a241-4e6a-ba5f-10cfb9623176",
   "metadata": {},
   "outputs": [],
   "source": [
    "i = 1\n",
    "treeReader.ReadEntry(i)\n",
    "event = branchEvent.At(0)\n",
    "jet = branchJet.At(0)\n",
    "jetMomentum = jet.P4()\n",
    "jet_pt = jetMomentum.Pt()\n",
    "nconstituents = jet.Constituents.GetEntriesFast()"
   ]
  },
  {
   "cell_type": "code",
   "execution_count": 5,
   "id": "4d769545-2867-4759-9dbd-0af07402b170",
   "metadata": {},
   "outputs": [],
   "source": [
    "constituents = [jet.Constituents.At(i) for i in range(nconstituents)]\n",
    "constituents_p4 = [i.P4() for i in constituents]\n",
    "tracks = [c for c in constituents if isinstance(c, cppyy.gbl.Track)]\n",
    "towers = [c for c in constituents if isinstance(c, cppyy.gbl.Tower)]"
   ]
  },
  {
   "cell_type": "code",
   "execution_count": 11,
   "id": "f052c3f6-2516-430c-8bdf-f244db10a2f6",
   "metadata": {},
   "outputs": [],
   "source": [
    "import cppyy\n",
    "sum_particle = cppyy.gbl.TLorentzVector()\n",
    "for track in tracks:\n",
    "    sum_particle += track.P4()\n",
    "for tower in towers:\n",
    "    sum_particle += tower.P4()"
   ]
  },
  {
   "cell_type": "code",
   "execution_count": 15,
   "id": "5472f6f2-d419-4e04-956d-1d194179291e",
   "metadata": {},
   "outputs": [
    {
     "data": {
      "text/plain": [
       "1347.3985595703123"
      ]
     },
     "execution_count": 15,
     "metadata": {},
     "output_type": "execute_result"
    }
   ],
   "source": [
    "jet_pt"
   ]
  },
  {
   "cell_type": "code",
   "execution_count": 16,
   "id": "3a1a588f-18ac-444e-a366-5c7e42f4952f",
   "metadata": {},
   "outputs": [
    {
     "data": {
      "text/plain": [
       "1347.3985084039884"
      ]
     },
     "execution_count": 16,
     "metadata": {},
     "output_type": "execute_result"
    }
   ],
   "source": [
    "sum_particle.Pt()"
   ]
  },
  {
   "cell_type": "code",
   "execution_count": null,
   "id": "47feaf95-6319-41dd-bd77-12cfdee6aee9",
   "metadata": {},
   "outputs": [],
   "source": []
  }
 ],
 "metadata": {
  "kernelspec": {
   "display_name": "Python 3 (ipykernel)",
   "language": "python",
   "name": "python3"
  },
  "language_info": {
   "codemirror_mode": {
    "name": "ipython",
    "version": 3
   },
   "file_extension": ".py",
   "mimetype": "text/x-python",
   "name": "python",
   "nbconvert_exporter": "python",
   "pygments_lexer": "ipython3",
   "version": "3.11.6"
  }
 },
 "nbformat": 4,
 "nbformat_minor": 5
}

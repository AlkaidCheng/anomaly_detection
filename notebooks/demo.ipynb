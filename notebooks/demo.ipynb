{
 "cells": [
  {
   "cell_type": "code",
   "execution_count": 1,
   "id": "7f6016a1-becc-4816-b9ac-157fdd292dde",
   "metadata": {},
   "outputs": [],
   "source": [
    "import uproot\n",
    "import awkward as ak\n",
    "import vector\n",
    "vector.register_awkward()"
   ]
  },
  {
   "cell_type": "code",
   "execution_count": 2,
   "id": "232f0359-b037-4128-ab4f-67caf7d8ef6b",
   "metadata": {},
   "outputs": [
    {
     "name": "stdout",
     "output_type": "stream",
     "text": [
      "uproot version: 5.1.2\n",
      "awkward version: 2.4.6\n",
      "vector version: 1.1.1.post1\n"
     ]
    }
   ],
   "source": [
    "print(f\"uproot version: {uproot.__version__}\")\n",
    "print(f\"awkward version: {ak.__version__}\")\n",
    "print(f\"vector version: {vector.__version__}\")"
   ]
  },
  {
   "cell_type": "code",
   "execution_count": 3,
   "id": "26d44e5a-e4ef-4416-899c-58bf20528b03",
   "metadata": {},
   "outputs": [],
   "source": [
    "filename = \"unweighted_events.root\""
   ]
  },
  {
   "cell_type": "code",
   "execution_count": 4,
   "id": "cf6a17e8-dcdb-4f25-8ca3-dfa2125b12ac",
   "metadata": {},
   "outputs": [],
   "source": [
    "f = uproot.open(filename)"
   ]
  },
  {
   "cell_type": "code",
   "execution_count": 5,
   "id": "51d97fd4-eb64-490e-bbe7-1e0e1f612ac0",
   "metadata": {},
   "outputs": [
    {
     "data": {
      "text/plain": [
       "['Event',\n",
       " 'Event/Event.fUniqueID',\n",
       " 'Event/Event.fBits',\n",
       " 'Event/Event.Number',\n",
       " 'Event/Event.Nparticles',\n",
       " 'Event/Event.ProcessID',\n",
       " 'Event/Event.Weight',\n",
       " 'Event/Event.ScalePDF',\n",
       " 'Event/Event.CouplingQED',\n",
       " 'Event/Event.CouplingQCD',\n",
       " 'Event_size',\n",
       " 'Rwgt',\n",
       " 'Rwgt/Rwgt.fUniqueID',\n",
       " 'Rwgt/Rwgt.fBits',\n",
       " 'Rwgt/Rwgt.Weight',\n",
       " 'Rwgt_size',\n",
       " 'Particle',\n",
       " 'Particle/Particle.fUniqueID',\n",
       " 'Particle/Particle.fBits',\n",
       " 'Particle/Particle.PID',\n",
       " 'Particle/Particle.Status',\n",
       " 'Particle/Particle.Mother1',\n",
       " 'Particle/Particle.Mother2',\n",
       " 'Particle/Particle.ColorLine1',\n",
       " 'Particle/Particle.ColorLine2',\n",
       " 'Particle/Particle.Px',\n",
       " 'Particle/Particle.Py',\n",
       " 'Particle/Particle.Pz',\n",
       " 'Particle/Particle.E',\n",
       " 'Particle/Particle.M',\n",
       " 'Particle/Particle.PT',\n",
       " 'Particle/Particle.Eta',\n",
       " 'Particle/Particle.Phi',\n",
       " 'Particle/Particle.Rapidity',\n",
       " 'Particle/Particle.LifeTime',\n",
       " 'Particle/Particle.Spin',\n",
       " 'Particle_size']"
      ]
     },
     "execution_count": 5,
     "metadata": {},
     "output_type": "execute_result"
    }
   ],
   "source": [
    "f['LHEF'].keys()"
   ]
  },
  {
   "cell_type": "code",
   "execution_count": 6,
   "id": "549eb6a2-3c3b-43dc-87dd-5746b51cc750",
   "metadata": {},
   "outputs": [
    {
     "name": "stdout",
     "output_type": "stream",
     "text": [
      "Help on method arrays in module uproot.behaviors.TBranch:\n",
      "\n",
      "arrays(expressions=None, cut=None, *, filter_name=<function no_filter at 0x7f4340458040>, filter_typename=<function no_filter at 0x7f4340458040>, filter_branch=<function no_filter at 0x7f4340458040>, aliases=None, language=uproot.language.python.PythonLanguage(), entry_start=None, entry_stop=None, decompression_executor=None, interpretation_executor=None, array_cache='inherit', library='ak', ak_add_doc=False, how=None) method of uproot.models.TTree.Model_TTree_v20 instance\n",
      "    Args:\n",
      "        expressions (None, str, or list of str): Names of ``TBranches`` or\n",
      "            aliases to convert to arrays or mathematical expressions of them.\n",
      "            Uses the ``language`` to evaluate. If None, all ``TBranches``\n",
      "            selected by the filters are included.\n",
      "        cut (None or str): If not None, this expression filters all of the\n",
      "            ``expressions``.\n",
      "        filter_name (None, glob string, regex string in ``\"/pattern/i\"`` syntax, function of str → bool, or iterable of the above): A\n",
      "            filter to select ``TBranches`` by name.\n",
      "        filter_typename (None, glob string, regex string in ``\"/pattern/i\"`` syntax, function of str → bool, or iterable of the above): A\n",
      "            filter to select ``TBranches`` by type.\n",
      "        filter_branch (None or function of :doc:`uproot.behaviors.TBranch.TBranch` → bool, :doc:`uproot.interpretation.Interpretation`, or None): A\n",
      "            filter to select ``TBranches`` using the full\n",
      "            :doc:`uproot.behaviors.TBranch.TBranch` object. If the function\n",
      "            returns False or None, the ``TBranch`` is excluded; if the function\n",
      "            returns True, it is included with its standard\n",
      "            :ref:`uproot.behaviors.TBranch.TBranch.interpretation`; if an\n",
      "            :doc:`uproot.interpretation.Interpretation`, this interpretation\n",
      "            overrules the standard one.\n",
      "        aliases (None or dict of str → str): Mathematical expressions that\n",
      "            can be used in ``expressions`` or other aliases (without cycles).\n",
      "            Uses the ``language`` engine to evaluate. If None, only the\n",
      "            :ref:`uproot.behaviors.TBranch.TBranch.aliases` are available.\n",
      "        language (:doc:`uproot.language.Language`): Language used to interpret\n",
      "            the ``expressions`` and ``aliases``.\n",
      "        entry_start (None or int): The first entry to include. If None, start\n",
      "            at zero. If negative, count from the end, like a Python slice.\n",
      "        entry_stop (None or int): The first entry to exclude (i.e. one greater\n",
      "            than the last entry to include). If None, stop at\n",
      "            :ref:`uproot.behaviors.TTree.TTree.num_entries`. If negative,\n",
      "            count from the end, like a Python slice.\n",
      "        decompression_executor (None or Executor with a ``submit`` method): The\n",
      "            executor that is used to decompress ``TBaskets``; if None, the\n",
      "            file's :ref:`uproot.reading.ReadOnlyFile.decompression_executor`\n",
      "            is used.\n",
      "        interpretation_executor (None or Executor with a ``submit`` method): The\n",
      "            executor that is used to interpret uncompressed ``TBasket`` data as\n",
      "            arrays; if None, the file's :ref:`uproot.reading.ReadOnlyFile.interpretation_executor`\n",
      "            is used.\n",
      "        array_cache (\"inherit\", None, MutableMapping, or memory size): Cache of arrays;\n",
      "            if \"inherit\", use the file's cache; if None, do not use a cache;\n",
      "            if a memory size, create a new cache of this size.\n",
      "        library (str or :doc:`uproot.interpretation.library.Library`): The library\n",
      "            that is used to represent arrays. Options are ``\"np\"`` for NumPy,\n",
      "            ``\"ak\"`` for Awkward Array, and ``\"pd\"`` for Pandas.\n",
      "        ak_add_doc (bool): If True and ``library=\"ak\"``, add the TBranch ``title``\n",
      "            to the Awkward ``__doc__`` parameter of the array.\n",
      "        how (None, str, or container type): Library-dependent instructions\n",
      "            for grouping. The only recognized container types are ``tuple``,\n",
      "            ``list``, and ``dict``. Note that the container *type itself*\n",
      "            must be passed as ``how``, not an instance of that type (i.e.\n",
      "            ``how=tuple``, not ``how=()``).\n",
      "    \n",
      "    Returns a group of arrays from the ``TTree``.\n",
      "    \n",
      "    For example:\n",
      "    \n",
      "    .. code-block:: python\n",
      "    \n",
      "        >>> my_tree[\"x\"].array()\n",
      "        <Array [-41.2, 35.1, 35.1, ... 32.4, 32.5] type='2304 * float64'>\n",
      "        >>> my_tree[\"y\"].array()\n",
      "        <Array [17.4, -16.6, -16.6, ... 1.2, 1.2, 1.2] type='2304 * float64'>\n",
      "    \n",
      "    See also :ref:`uproot.behaviors.TBranch.TBranch.array` to read a single\n",
      "    ``TBranch`` as an array.\n",
      "    \n",
      "    See also :ref:`uproot.behaviors.TBranch.HasBranches.iterate` to iterate over\n",
      "    the array in contiguous ranges of entries.\n",
      "\n"
     ]
    }
   ],
   "source": [
    "help(f['LHEF'].arrays)"
   ]
  },
  {
   "cell_type": "code",
   "execution_count": 7,
   "id": "e1174833-8c97-4d92-8397-8e16ac82982a",
   "metadata": {},
   "outputs": [],
   "source": [
    "aliases = {\n",
    "     \"part_pt\" : \"Particle/Particle.PT\",\n",
    "     \"part_eta\" : \"Particle/Particle.Eta\",   \n",
    "     \"part_phi\" : \"Particle/Particle.Phi\" ,  \n",
    "     \"part_PID\" : \"Particle/Particle.PID\",\n",
    "     \"part_E\" : \"Particle/Particle.E\",\n",
    "     \"part_mother1\" : \"Particle/Particle.Mother1\",\n",
    "     \"part_mother2\" : \"Particle/Particle.Mother2\"\n",
    "}\n",
    "part_features = f['LHEF'].arrays(list(aliases), aliases = aliases)"
   ]
  },
  {
   "cell_type": "code",
   "execution_count": 38,
   "id": "0d934248-64a1-4e41-a4bb-d5e9632648ba",
   "metadata": {},
   "outputs": [
    {
     "data": {
      "text/html": [
       "<pre>[5,\n",
       " 6,\n",
       " 7]\n",
       "---------------\n",
       "type: 3 * int64</pre>"
      ],
      "text/plain": [
       "<Array [5, 6, 7] type='3 * int64'>"
      ]
     },
     "execution_count": 38,
     "metadata": {},
     "output_type": "execute_result"
    }
   ],
   "source": [
    "import numpy as np\n",
    "np.unique(ak.num(part_features['part_PID']))"
   ]
  },
  {
   "cell_type": "markdown",
   "id": "7a2fc8fa-138e-4f17-abdc-fd846862fc52",
   "metadata": {},
   "source": [
    "## First selection\n",
    "\n",
    "- Select the highest E of the particle with PID=25"
   ]
  },
  {
   "cell_type": "code",
   "execution_count": 8,
   "id": "03802e5b-406b-4f8c-9e22-937db7c65722",
   "metadata": {},
   "outputs": [
    {
     "data": {
      "text/html": [
       "<pre>[{part_pt: 70.8, part_eta: -2.29, part_phi: -2.13, part_PID: 25, ...},\n",
       " {part_pt: 147, part_eta: -1.84, part_phi: 2.86, part_PID: 25, ...},\n",
       " {part_pt: 232, part_eta: 2.14, part_phi: -2.32, part_PID: 25, ...},\n",
       " {part_pt: 106, part_eta: 1.92, part_phi: -1.86, part_PID: 25, ...},\n",
       " {part_pt: 190, part_eta: 2.39, part_phi: -2.78, part_PID: 25, ...},\n",
       " {part_pt: 161, part_eta: 3.44, part_phi: -2.82, part_PID: 25, ...},\n",
       " {part_pt: 268, part_eta: 1.96, part_phi: 0.975, part_PID: 25, ...},\n",
       " {part_pt: 121, part_eta: 0.608, part_phi: -1.59, part_PID: 25, ...},\n",
       " {part_pt: 287, part_eta: 1.15, part_phi: -0.606, part_PID: 25, ...},\n",
       " {part_pt: 286, part_eta: -0.413, part_phi: -0.807, part_PID: 25, ...},\n",
       " ...,\n",
       " {part_pt: 208, part_eta: 2.76, part_phi: 0.252, part_PID: 25, ...},\n",
       " {part_pt: 132, part_eta: -1.37, part_phi: 2.46, part_PID: 25, ...},\n",
       " {part_pt: 327, part_eta: 0.757, part_phi: -1.86, part_PID: 25, ...},\n",
       " {part_pt: 269, part_eta: 0.0763, part_phi: 0.267, part_PID: 25, ...},\n",
       " {part_pt: 217, part_eta: -1.22, part_phi: -0.872, part_PID: 25, ...},\n",
       " {part_pt: 84.9, part_eta: -2.19, part_phi: 1.51, part_PID: 25, ...},\n",
       " {part_pt: 202, part_eta: 0.839, part_phi: 1.08, part_PID: 25, ...},\n",
       " {part_pt: 288, part_eta: -0.265, part_phi: 0.886, part_PID: 25, ...},\n",
       " {part_pt: 74.4, part_eta: -2.01, part_phi: -0.301, part_PID: 25, ...}]\n",
       "-----------------------------------------------------------------------\n",
       "type: 10000 * {\n",
       "    part_pt: float64,\n",
       "    part_eta: float64,\n",
       "    part_phi: float64,\n",
       "    part_PID: int64,\n",
       "    part_E: float64,\n",
       "    part_mother1: int64,\n",
       "    part_mother2: int64\n",
       "}</pre>"
      ],
      "text/plain": [
       "<Array [{part_pt: 70.8, ...}, ..., {...}] type='10000 * {part_pt: float64, ...'>"
      ]
     },
     "execution_count": 8,
     "metadata": {},
     "output_type": "execute_result"
    }
   ],
   "source": [
    "# select the highest E of the particle with PID=25\n",
    "mask = part_features['part_PID'] == 25\n",
    "higgs_features = part_features[mask]\n",
    "sort_idx = ak.argsort(higgs_features['part_E'], ascending=False, axis=-1)\n",
    "higgs_features = higgs_features[sort_idx]\n",
    "pad_size = 1\n",
    "clip = True\n",
    "# zero pad if event has no particle with PID = 25\n",
    "pad_val = 0\n",
    "higgs_features = ak.fill_none(ak.pad_none(higgs_features, pad_size, clip=True), pad_val)[:, 0]\n",
    "higgs_features"
   ]
  },
  {
   "cell_type": "markdown",
   "id": "94154638-033e-491e-bcb3-0fe7999a1216",
   "metadata": {},
   "source": [
    "## Second selection\n",
    "\n",
    "- Invariant mass of two particles whose mother1's PID = 99925"
   ]
  },
  {
   "cell_type": "code",
   "execution_count": 9,
   "id": "09304200-a956-45a6-ba44-1975530f7d99",
   "metadata": {},
   "outputs": [],
   "source": [
    "S_mask = part_features['part_PID'] == 99925\n",
    "# filter out with exactly one S\n",
    "proper_part_features = part_features[ak.sum(S_mask, axis=-1) == 1]"
   ]
  },
  {
   "cell_type": "code",
   "execution_count": 10,
   "id": "4563b093-2e8f-43de-940e-7dc097c5a06e",
   "metadata": {},
   "outputs": [
    {
     "data": {
      "text/html": [
       "<pre>[{part_pt: [0, 0, 1.42e-14, ..., 81, 99.7], part_eta: [...], ...},\n",
       " {part_pt: [0, 0, ..., 61.8, 89.9], part_eta: [1e+03, ...], part_phi: ..., ...},\n",
       " {part_pt: [0, 0, 2.16e-14, ..., 232, 238], part_eta: [...], ...},\n",
       " {part_pt: [0, 0, ..., 95.7, 181], part_eta: [1e+03, ...], part_phi: ..., ...},\n",
       " {part_pt: [0, 0, 0, ..., 123, 96, 190], part_eta: [...], part_phi: [...], ...},\n",
       " {part_pt: [0, 0, ..., 57.4, 161], part_eta: [1e+03, ...], part_phi: ..., ...},\n",
       " {part_pt: [0, 0, ..., 199, 69.4], part_eta: [1e+03, ...], part_phi: ..., ...},\n",
       " {part_pt: [0, 0, ..., 82.4, 287], part_eta: [1e+03, ...], part_phi: ..., ...},\n",
       " {part_pt: [0, 0, 1.42e-14, ..., 286, 199], part_eta: [...], ...},\n",
       " {part_pt: [0, 0, ..., 226, 15.4], part_eta: [1e+03, ...], part_phi: ..., ...},\n",
       " ...,\n",
       " {part_pt: [0, 0, 7.11e-15, ..., 157, 208], part_eta: [...], ...},\n",
       " {part_pt: [0, 0, 0, ..., 80, 132, 80.2], part_eta: [...], part_phi: ..., ...},\n",
       " {part_pt: [0, 0, 5.86e-14, ..., 218, 327], part_eta: [...], ...},\n",
       " {part_pt: [0, 0, 1e-14, ..., 269, 229], part_eta: [...], part_phi: [...], ...},\n",
       " {part_pt: [0, 0, 1.07e-14, ..., 100, 217], part_eta: [...], ...},\n",
       " {part_pt: [0, 0, ..., 118, 84.9], part_eta: [1e+03, ...], part_phi: ..., ...},\n",
       " {part_pt: [0, 0, 1.28e-14, ..., 47, 202], part_eta: [...], part_phi: ..., ...},\n",
       " {part_pt: [0, 0, 2.01e-14, ..., 203, 87], part_eta: [...], part_phi: ..., ...},\n",
       " {part_pt: [0, 0, 0, ..., 74.4, 65.2], part_eta: [1e+03, ...], ...}]\n",
       "--------------------------------------------------------------------------------\n",
       "type: 9480 * {\n",
       "    part_pt: var * float64,\n",
       "    part_eta: var * float64,\n",
       "    part_phi: var * float64,\n",
       "    part_PID: var * int32,\n",
       "    part_E: var * float64,\n",
       "    part_mother1: var * int32,\n",
       "    part_mother2: var * int32\n",
       "}</pre>"
      ],
      "text/plain": [
       "<Array [{part_pt: [0, ...], ...}, ..., {...}] type='9480 * {part_pt: var * ...'>"
      ]
     },
     "execution_count": 10,
     "metadata": {},
     "output_type": "execute_result"
    }
   ],
   "source": [
    "proper_part_features"
   ]
  },
  {
   "cell_type": "code",
   "execution_count": 32,
   "id": "a1a85206-0307-409e-9e9d-dffb955e225f",
   "metadata": {},
   "outputs": [],
   "source": [
    "max_part = ak.max(ak.num(proper_part_features['part_PID']))\n",
    "# zero pad\n",
    "fixed_part_features = ak.fill_none(ak.pad_none(proper_part_features, max_part), value=0)\n",
    "S_idx = ak.where(fixed_part_features['part_PID'] == 99925)[1]\n",
    "S_child_features = fixed_part_features[fixed_part_features['part_mother1'] == S_idx]\n",
    "# filter out events with exactly two particles (the two h of S)\n",
    "S_child_features = S_child_features[ak.num(S_child_features['part_pt']) == 2]\n",
    "child_p4 = ak.zip({\n",
    "    \"pt\"  : S_child_features['part_pt'],\n",
    "    \"eta\" : S_child_features['part_eta'],\n",
    "    \"phi\" : S_child_features['part_phi'],\n",
    "    \"E\"   : S_child_features['part_E'],\n",
    "}, with_name=\"Momentum4D\")"
   ]
  },
  {
   "cell_type": "code",
   "execution_count": 104,
   "id": "0e0a5030-1459-43b4-8318-34e1746bc187",
   "metadata": {},
   "outputs": [
    {
     "data": {
      "text/html": [
       "<pre>[{t: 675, z: -475, x: -88.4, y: 118},\n",
       " {t: 601, z: 231, x: 20.7, y: 55.2},\n",
       " {t: 552, z: -17.9, x: -41.2, y: 38.3},\n",
       " {t: 641, z: -345, x: -17.2, y: -54.8},\n",
       " {t: 1.17e+03, z: 1.03e+03, x: 5.26, y: -64.2},\n",
       " {t: 571, z: 69.8, x: 70.6, y: 31.8},\n",
       " {t: 654, z: -379, x: 105, y: -1.67},\n",
       " {t: 1.13e+03, z: -982, x: -4, y: 63.9},\n",
       " {t: 557, z: 50, x: 71.4, y: -33.7},\n",
       " {t: 501, z: -133, x: -159, y: -0.0848},\n",
       " ...,\n",
       " {t: 605, z: 252, x: -27.7, y: 29.1},\n",
       " {t: 1.17e+03, z: 1.06e+03, x: -83.5, y: -106},\n",
       " {t: 562, z: 288, x: -59, y: 55.5},\n",
       " {t: 561, z: -122, x: -9.33, y: -13.9},\n",
       " {t: 784, z: 555, x: -43.1, y: -29},\n",
       " {t: 876, z: 692, x: -26.3, y: -65.4},\n",
       " {t: 556, z: -49.7, x: -27.9, y: 75.7},\n",
       " {t: 588, z: 138, x: -148, y: 33.9},\n",
       " {t: 748, z: -503, x: -4.28, y: 73.7}]\n",
       "-----------------------------------------------\n",
       "type: 9671 * Momentum4D[\n",
       "    t: float64,\n",
       "    z: float64,\n",
       "    x: float64,\n",
       "    y: float64\n",
       "]</pre>"
      ],
      "text/plain": [
       "<MomentumArray4D [{t: 675, z: -475, x: -88.4, ...}, ...] type='9671 * Momen...'>"
      ]
     },
     "execution_count": 104,
     "metadata": {},
     "output_type": "execute_result"
    }
   ],
   "source": [
    "hh_p4 = ak.sum(child_p4, axis=-1)\n",
    "hh_p4"
   ]
  },
  {
   "cell_type": "code",
   "execution_count": 105,
   "id": "14c7f111-7319-48b5-a3b6-6375b0e0c7f5",
   "metadata": {},
   "outputs": [
    {
     "data": {
      "text/html": [
       "<pre>[456,\n",
       " 551,\n",
       " 549,\n",
       " 537,\n",
       " 550,\n",
       " 561,\n",
       " 523,\n",
       " 551,\n",
       " 549,\n",
       " 457,\n",
       " ...,\n",
       " 548,\n",
       " 486,\n",
       " 476,\n",
       " 548,\n",
       " 551,\n",
       " 533,\n",
       " 548,\n",
       " 551,\n",
       " 548]\n",
       "--------------------\n",
       "type: 9671 * float64</pre>"
      ],
      "text/plain": [
       "<Array [456, 551, 549, 537, 550, ..., 533, 548, 551, 548] type='9671 * float64'>"
      ]
     },
     "execution_count": 105,
     "metadata": {},
     "output_type": "execute_result"
    }
   ],
   "source": [
    "m_hh = hh_p4.m\n",
    "m_hh"
   ]
  },
  {
   "cell_type": "code",
   "execution_count": 106,
   "id": "93b5be0f-33af-485a-9de3-4fa2a932619d",
   "metadata": {},
   "outputs": [],
   "source": [
    "final_features = {\n",
    "    'hh': ak.Array({\n",
    "        'mhh': m_hh\n",
    "    }),\n",
    "    'highest_E_h': higgs_features\n",
    "}\n",
    "array = ak.Record(final_features)"
   ]
  },
  {
   "cell_type": "code",
   "execution_count": 107,
   "id": "b610d624-993b-461a-b666-430754f147c1",
   "metadata": {},
   "outputs": [
    {
     "data": {
      "text/html": [
       "<pre>{hh: [{mhh: 456}, {mhh: 551}, {mhh: 549}, ..., {...}, {mhh: 551}, {mhh: 548}],\n",
       " highest_E_h: [{part_pt: 127, part_eta: -1.71, part_phi: 0.282, ...}, ...]}\n",
       "------------------------------------------------------------------------------\n",
       "type: {\n",
       "    hh: 9671 * {\n",
       "        mhh: float64\n",
       "    },\n",
       "    highest_E_h: 10000 * {\n",
       "        part_pt: float64,\n",
       "        part_eta: float64,\n",
       "        part_phi: float64,\n",
       "        part_PID: int64,\n",
       "        part_E: float64,\n",
       "        part_mother1: int64,\n",
       "        part_mother2: int64\n",
       "    }\n",
       "}</pre>"
      ],
      "text/plain": [
       "<Record {hh: [{...}, ...], ...} type='{hh: 9671 * {mhh: float64}, highest_E...'>"
      ]
     },
     "execution_count": 107,
     "metadata": {},
     "output_type": "execute_result"
    }
   ],
   "source": [
    "array"
   ]
  },
  {
   "cell_type": "code",
   "execution_count": 108,
   "id": "431c9fd2-8252-4be6-b792-f88d40beceae",
   "metadata": {},
   "outputs": [
    {
     "data": {
      "text/plain": [
       "<pyarrow._parquet.FileMetaData object at 0x7fa304daa2f0>\n",
       "  created_by: parquet-cpp-arrow version 13.0.0\n",
       "  num_columns: 8\n",
       "  num_rows: 1\n",
       "  num_row_groups: 1\n",
       "  format_version: 2.6\n",
       "  serialized_size: 0"
      ]
     },
     "execution_count": 108,
     "metadata": {},
     "output_type": "execute_result"
    }
   ],
   "source": [
    "ak.to_parquet(array, 'my_very_nice_data.parquet')"
   ]
  },
  {
   "cell_type": "code",
   "execution_count": 109,
   "id": "9b81ae08-d025-42d0-9556-4cdf8369ddeb",
   "metadata": {},
   "outputs": [],
   "source": [
    "my_nice_array = ak.from_parquet('my_very_nice_data.parquet')"
   ]
  },
  {
   "cell_type": "code",
   "execution_count": 110,
   "id": "6bb9e64e-bdbc-4907-80ee-9246da133813",
   "metadata": {},
   "outputs": [
    {
     "data": {
      "text/html": [
       "<pre>{hh: [{mhh: 456}, {mhh: 551}, {mhh: 549}, ..., {...}, {mhh: 551}, {mhh: 548}],\n",
       " highest_E_h: [{part_pt: 127, part_eta: -1.71, part_phi: 0.282, ...}, ...]}\n",
       "------------------------------------------------------------------------------\n",
       "type: {\n",
       "    hh: 9671 * {\n",
       "        mhh: float64\n",
       "    },\n",
       "    highest_E_h: 10000 * {\n",
       "        part_pt: float64,\n",
       "        part_eta: float64,\n",
       "        part_phi: float64,\n",
       "        part_PID: int64,\n",
       "        part_E: float64,\n",
       "        part_mother1: int64,\n",
       "        part_mother2: int64\n",
       "    }\n",
       "}</pre>"
      ],
      "text/plain": [
       "<Record {hh: [{...}, ...], ...} type='{hh: 9671 * {mhh: float64}, highest_E...'>"
      ]
     },
     "execution_count": 110,
     "metadata": {},
     "output_type": "execute_result"
    }
   ],
   "source": [
    "my_nice_array"
   ]
  },
  {
   "cell_type": "code",
   "execution_count": 111,
   "id": "87d36596-fced-45f0-80cb-1a99efdfd8ba",
   "metadata": {},
   "outputs": [
    {
     "data": {
      "text/html": [
       "<pre>[456,\n",
       " 551,\n",
       " 549,\n",
       " 537,\n",
       " 550,\n",
       " 561,\n",
       " 523,\n",
       " 551,\n",
       " 549,\n",
       " 457,\n",
       " ...,\n",
       " 548,\n",
       " 486,\n",
       " 476,\n",
       " 548,\n",
       " 551,\n",
       " 533,\n",
       " 548,\n",
       " 551,\n",
       " 548]\n",
       "--------------------\n",
       "type: 9671 * float64</pre>"
      ],
      "text/plain": [
       "<Array [456, 551, 549, 537, 550, ..., 533, 548, 551, 548] type='9671 * float64'>"
      ]
     },
     "execution_count": 111,
     "metadata": {},
     "output_type": "execute_result"
    }
   ],
   "source": [
    "my_nice_array['hh']['mhh']"
   ]
  },
  {
   "cell_type": "code",
   "execution_count": 112,
   "id": "7c73404a-0306-42d4-9e6a-e9942ba9bbda",
   "metadata": {},
   "outputs": [
    {
     "data": {
      "text/plain": [
       "array([456.11447558, 551.03679558, 548.67696864, ..., 548.23456484,\n",
       "       550.77992548, 548.23755057])"
      ]
     },
     "execution_count": 112,
     "metadata": {},
     "output_type": "execute_result"
    }
   ],
   "source": [
    "ak.to_numpy(my_nice_array['hh']['mhh'])"
   ]
  },
  {
   "cell_type": "markdown",
   "id": "37a11576-ae62-4a58-bf9d-582034777077",
   "metadata": {},
   "source": [
    "## Selection 3"
   ]
  },
  {
   "cell_type": "code",
   "execution_count": null,
   "id": "1c80aee5-61ad-4daf-a856-2a39a52e37bc",
   "metadata": {},
   "outputs": [],
   "source": [
    "# events with 6 particles"
   ]
  }
 ],
 "metadata": {
  "kernelspec": {
   "display_name": "Python 3 (ipykernel)",
   "language": "python",
   "name": "python3"
  },
  "language_info": {
   "codemirror_mode": {
    "name": "ipython",
    "version": 3
   },
   "file_extension": ".py",
   "mimetype": "text/x-python",
   "name": "python",
   "nbconvert_exporter": "python",
   "pygments_lexer": "ipython3",
   "version": "3.11.6"
  }
 },
 "nbformat": 4,
 "nbformat_minor": 5
}
